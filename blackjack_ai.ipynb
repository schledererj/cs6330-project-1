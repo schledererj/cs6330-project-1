{
 "cells": [
  {
   "cell_type": "markdown",
   "metadata": {},
   "source": [
    "# CS6330 Project 1: Reinforcement Learning Blackjack Agent"
   ]
  },
  {
   "cell_type": "code",
   "execution_count": 1,
   "metadata": {},
   "outputs": [],
   "source": [
    "import blackjack\n",
    "import pandas as pd\n",
    "import seaborn as sns\n",
    "import matplotlib.pyplot as plt"
   ]
  },
  {
   "cell_type": "markdown",
   "metadata": {},
   "source": [
    "The goal of this project is to build an intelligent Blackjack player using reinforcement (q-) learning.\n",
    "\n",
    "## Control experiment\n",
    "\n",
    "For a control experiment, we'll build a Blackjack player who, per basic Blackjack strategy, hits up to 17, then stands. The dealer will also play this way. This is a _simplified_ version of Blackjack, where we'll treat the deck as a \"continuous shuffle\" shoe, meaning that each card dealt is a random choice from 52 cards, meaning that the same card twice in a row is possible, but very improbable (though it would be an interesting future experiment to observe how the policy changes should the game use 1-, 2-, 4-deck shoes (and so on) with shuffling taking place when the deck is exhausted). We'll simulate 1,000 hands and see how the player performs. Check the accompanying `blackjack.py` file for the implementations of the player, the scoring algorithm, and more."
   ]
  },
  {
   "cell_type": "code",
   "execution_count": 46,
   "metadata": {},
   "outputs": [],
   "source": [
    "games = list()\n",
    "\n",
    "for x in range(0, 1000):\n",
    "    games.append(blackjack.Game().play_hand())"
   ]
  },
  {
   "cell_type": "code",
   "execution_count": 47,
   "metadata": {},
   "outputs": [
    {
     "data": {
      "text/html": [
       "<div>\n",
       "<style scoped>\n",
       "    .dataframe tbody tr th:only-of-type {\n",
       "        vertical-align: middle;\n",
       "    }\n",
       "\n",
       "    .dataframe tbody tr th {\n",
       "        vertical-align: top;\n",
       "    }\n",
       "\n",
       "    .dataframe thead th {\n",
       "        text-align: right;\n",
       "    }\n",
       "</style>\n",
       "<table border=\"1\" class=\"dataframe\">\n",
       "  <thead>\n",
       "    <tr style=\"text-align: right;\">\n",
       "      <th></th>\n",
       "      <th>winner</th>\n",
       "      <th>player_score</th>\n",
       "      <th>dealer_score</th>\n",
       "      <th>player_cards</th>\n",
       "      <th>dealer_cards</th>\n",
       "    </tr>\n",
       "  </thead>\n",
       "  <tbody>\n",
       "    <tr>\n",
       "      <th>0</th>\n",
       "      <td>dealer</td>\n",
       "      <td>17</td>\n",
       "      <td>20</td>\n",
       "      <td>[Rank.FACE, Rank.SIX, Rank.ACE]</td>\n",
       "      <td>[Rank.FACE, Rank.FACE]</td>\n",
       "    </tr>\n",
       "    <tr>\n",
       "      <th>1</th>\n",
       "      <td>dealer</td>\n",
       "      <td>17</td>\n",
       "      <td>21</td>\n",
       "      <td>[Rank.SIX, Rank.ACE]</td>\n",
       "      <td>[Rank.FACE, Rank.SIX, Rank.FIVE]</td>\n",
       "    </tr>\n",
       "    <tr>\n",
       "      <th>2</th>\n",
       "      <td>player</td>\n",
       "      <td>19</td>\n",
       "      <td>25</td>\n",
       "      <td>[Rank.FACE, Rank.NINE]</td>\n",
       "      <td>[Rank.FIVE, Rank.FACE, Rank.FACE]</td>\n",
       "    </tr>\n",
       "    <tr>\n",
       "      <th>3</th>\n",
       "      <td>player</td>\n",
       "      <td>19</td>\n",
       "      <td>18</td>\n",
       "      <td>[Rank.TWO, Rank.FACE, Rank.ACE, Rank.SIX]</td>\n",
       "      <td>[Rank.TWO, Rank.FOUR, Rank.SIX, Rank.SIX]</td>\n",
       "    </tr>\n",
       "    <tr>\n",
       "      <th>4</th>\n",
       "      <td>player</td>\n",
       "      <td>20</td>\n",
       "      <td>24</td>\n",
       "      <td>[Rank.FACE, Rank.FIVE, Rank.FIVE]</td>\n",
       "      <td>[Rank.TWO, Rank.FACE, Rank.TWO, Rank.FACE]</td>\n",
       "    </tr>\n",
       "  </tbody>\n",
       "</table>\n",
       "</div>"
      ],
      "text/plain": [
       "   winner  player_score  dealer_score  \\\n",
       "0  dealer            17            20   \n",
       "1  dealer            17            21   \n",
       "2  player            19            25   \n",
       "3  player            19            18   \n",
       "4  player            20            24   \n",
       "\n",
       "                                player_cards  \\\n",
       "0            [Rank.FACE, Rank.SIX, Rank.ACE]   \n",
       "1                       [Rank.SIX, Rank.ACE]   \n",
       "2                     [Rank.FACE, Rank.NINE]   \n",
       "3  [Rank.TWO, Rank.FACE, Rank.ACE, Rank.SIX]   \n",
       "4          [Rank.FACE, Rank.FIVE, Rank.FIVE]   \n",
       "\n",
       "                                 dealer_cards  \n",
       "0                      [Rank.FACE, Rank.FACE]  \n",
       "1            [Rank.FACE, Rank.SIX, Rank.FIVE]  \n",
       "2           [Rank.FIVE, Rank.FACE, Rank.FACE]  \n",
       "3   [Rank.TWO, Rank.FOUR, Rank.SIX, Rank.SIX]  \n",
       "4  [Rank.TWO, Rank.FACE, Rank.TWO, Rank.FACE]  "
      ]
     },
     "execution_count": 47,
     "metadata": {},
     "output_type": "execute_result"
    }
   ],
   "source": [
    "df = pd.DataFrame(games)\n",
    "df.head()"
   ]
  },
  {
   "cell_type": "code",
   "execution_count": 48,
   "metadata": {},
   "outputs": [
    {
     "data": {
      "image/png": "[encoded data removed]",
      "text/plain": [
       "<Figure size 360x360 with 1 Axes>"
      ]
     },
     "metadata": {
      "needs_background": "light"
     },
     "output_type": "display_data"
    }
   ],
   "source": [
    "sns.displot(df['winner'])\n",
    "plt.title('Distribution of hand winners for 1000 hands; first pass')\n",
    "plt.show()"
   ]
  },
  {
   "cell_type": "code",
   "execution_count": 49,
   "metadata": {},
   "outputs": [
    {
     "name": "stdout",
     "output_type": "stream",
     "text": [
      "Player win percentage: 42.40%\n",
      "Dealer win percentage: 57.60%\n",
      "House edge: 7.60%\n"
     ]
    }
   ],
   "source": [
    "dealer_win = df['winner'].value_counts()['dealer'] / 1000. * 100\n",
    "player_win = df['winner'].value_counts()['player'] / 1000. * 100\n",
    "print(f\"Player win percentage: {(player_win):.2f}%\")\n",
    "print(f\"Dealer win percentage: {(dealer_win):.2f}%\")\n",
    "print(f\"House edge: {(dealer_win - 50):.2f}%\")"
   ]
  },
  {
   "cell_type": "markdown",
   "metadata": {},
   "source": [
    "### Measuring the house edge\n",
    "\n",
    "As a casino game, the rules of Blackjack set up to give the dealer (the _house_) an advantage (an _edge_). Meaning that, after enough games, we'll observe the house averaging out to win a certain percentage over 50%, but never under (hence why gambling is always a bad decision). In a real game of Blackjack, i.e with good player strategy, splits, double-downs, 3:2 payouts on natural Blackjacks, etc, this can be well under 5%, but for this first pass, we got 8.6%. Let's measure the house edge in the following experiments to see if a player whose moves are governed by a Q-learning policy can learn to play better, quantitatively measured by a reduction in the house edge.\n",
    "\n",
    "## Q-learning experiment\n",
    "\n",
    "For the next experiment, we'll use a Q-learning algorithm to train a policy which we'll pass to the player and run the same experiment as before. For the first round of training, we're not taking into account the dealer's score, and will only update the Q-table based on whether the player stands before 21, hits exactly 21, or busts."
   ]
  },
  {
   "cell_type": "code",
   "execution_count": 50,
   "metadata": {},
   "outputs": [],
   "source": [
    "trainer = blackjack.QLearningTrainer()\n",
    "trainer.optimize_q_table()"
   ]
  },
  {
   "cell_type": "code",
   "execution_count": 51,
   "metadata": {},
   "outputs": [],
   "source": [
    "policy = trainer.compile_policy_from_trained_q_table()\n",
    "games = list()\n",
    "for x in range(0, 1000):\n",
    "    games.append(blackjack.Game(policy).play_hand())"
   ]
  },
  {
   "cell_type": "code",
   "execution_count": 52,
   "metadata": {},
   "outputs": [
    {
     "data": {
      "text/html": [
       "<div>\n",
       "<style scoped>\n",
       "    .dataframe tbody tr th:only-of-type {\n",
       "        vertical-align: middle;\n",
       "    }\n",
       "\n",
       "    .dataframe tbody tr th {\n",
       "        vertical-align: top;\n",
       "    }\n",
       "\n",
       "    .dataframe thead th {\n",
       "        text-align: right;\n",
       "    }\n",
       "</style>\n",
       "<table border=\"1\" class=\"dataframe\">\n",
       "  <thead>\n",
       "    <tr style=\"text-align: right;\">\n",
       "      <th></th>\n",
       "      <th>winner</th>\n",
       "      <th>player_score</th>\n",
       "      <th>dealer_score</th>\n",
       "      <th>player_cards</th>\n",
       "      <th>dealer_cards</th>\n",
       "    </tr>\n",
       "  </thead>\n",
       "  <tbody>\n",
       "    <tr>\n",
       "      <th>0</th>\n",
       "      <td>player</td>\n",
       "      <td>17</td>\n",
       "      <td>25</td>\n",
       "      <td>[Rank.TWO, Rank.FIVE, Rank.FACE]</td>\n",
       "      <td>[Rank.EIGHT, Rank.SEVEN, Rank.FACE]</td>\n",
       "    </tr>\n",
       "    <tr>\n",
       "      <th>1</th>\n",
       "      <td>player</td>\n",
       "      <td>14</td>\n",
       "      <td>24</td>\n",
       "      <td>[Rank.FACE, Rank.FOUR]</td>\n",
       "      <td>[Rank.FOUR, Rank.FACE, Rank.FACE]</td>\n",
       "    </tr>\n",
       "    <tr>\n",
       "      <th>2</th>\n",
       "      <td>dealer</td>\n",
       "      <td>12</td>\n",
       "      <td>18</td>\n",
       "      <td>[Rank.SEVEN, Rank.THREE, Rank.TWO]</td>\n",
       "      <td>[Rank.EIGHT, Rank.FACE]</td>\n",
       "    </tr>\n",
       "    <tr>\n",
       "      <th>3</th>\n",
       "      <td>dealer</td>\n",
       "      <td>15</td>\n",
       "      <td>17</td>\n",
       "      <td>[Rank.ACE, Rank.FOUR]</td>\n",
       "      <td>[Rank.FACE, Rank.SEVEN]</td>\n",
       "    </tr>\n",
       "    <tr>\n",
       "      <th>4</th>\n",
       "      <td>dealer</td>\n",
       "      <td>13</td>\n",
       "      <td>21</td>\n",
       "      <td>[Rank.THREE, Rank.FACE]</td>\n",
       "      <td>[Rank.FACE, Rank.ACE]</td>\n",
       "    </tr>\n",
       "  </tbody>\n",
       "</table>\n",
       "</div>"
      ],
      "text/plain": [
       "   winner  player_score  dealer_score                        player_cards  \\\n",
       "0  player            17            25    [Rank.TWO, Rank.FIVE, Rank.FACE]   \n",
       "1  player            14            24              [Rank.FACE, Rank.FOUR]   \n",
       "2  dealer            12            18  [Rank.SEVEN, Rank.THREE, Rank.TWO]   \n",
       "3  dealer            15            17               [Rank.ACE, Rank.FOUR]   \n",
       "4  dealer            13            21             [Rank.THREE, Rank.FACE]   \n",
       "\n",
       "                          dealer_cards  \n",
       "0  [Rank.EIGHT, Rank.SEVEN, Rank.FACE]  \n",
       "1    [Rank.FOUR, Rank.FACE, Rank.FACE]  \n",
       "2              [Rank.EIGHT, Rank.FACE]  \n",
       "3              [Rank.FACE, Rank.SEVEN]  \n",
       "4                [Rank.FACE, Rank.ACE]  "
      ]
     },
     "execution_count": 52,
     "metadata": {},
     "output_type": "execute_result"
    }
   ],
   "source": [
    "df = pd.DataFrame(games)\n",
    "df.head()"
   ]
  },
  {
   "cell_type": "code",
   "execution_count": 53,
   "metadata": {},
   "outputs": [
    {
     "data": {
      "image/png": "[encoded data removed]",
      "text/plain": [
       "<Figure size 360x360 with 1 Axes>"
      ]
     },
     "metadata": {
      "needs_background": "light"
     },
     "output_type": "display_data"
    }
   ],
   "source": [
    "sns.displot(df['winner'])\n",
    "plt.title('Distribution of hand winners for 1000 hands; second pass')\n",
    "plt.show()"
   ]
  },
  {
   "cell_type": "code",
   "execution_count": 54,
   "metadata": {},
   "outputs": [
    {
     "name": "stdout",
     "output_type": "stream",
     "text": [
      "Player win percentage: 39.80%\n",
      "Dealer win percentage: 60.20%\n",
      "House edge: 10.20%\n"
     ]
    }
   ],
   "source": [
    "dealer_win = df['winner'].value_counts()['dealer'] / 1000. * 100\n",
    "player_win = df['winner'].value_counts()['player'] / 1000. * 100\n",
    "print(f\"Player win percentage: {(player_win):.2f}%\")\n",
    "print(f\"Dealer win percentage: {(dealer_win):.2f}%\")\n",
    "print(f\"House edge: {(dealer_win - 50):.2f}%\")"
   ]
  },
  {
   "cell_type": "markdown",
   "metadata": {},
   "source": [
    "It seems that this method slightly weakened the player and strengthened the house edge. But, that could be because we're not taking into account the dealer's score, so we don't know if we truly win unless we hit exactly 21.\n",
    "\n",
    "## Q-learning experiment 2\n",
    "\n",
    "Let's switch the positions of the dealer and the player, so we'll know the dealer's score before the player starts. With that data, we can build a different rewards table that considers the dealer's score, and therefore, whether or not we won not by hitting 21, but rather simply having more points than the dealer, which is a much more common scenario we weren't counting for before."
   ]
  },
  {
   "cell_type": "code",
   "execution_count": 55,
   "metadata": {},
   "outputs": [],
   "source": [
    "trainer = blackjack.QLearningTrainer()\n",
    "trainer.optimize_q_table_v2()"
   ]
  },
  {
   "cell_type": "code",
   "execution_count": 56,
   "metadata": {},
   "outputs": [
    {
     "data": {
      "text/plain": [
       "[{'state': 1, 'action': 'hit'},\n",
       " {'state': 2, 'action': 'stand'},\n",
       " {'state': 3, 'action': 'hit'},\n",
       " {'state': 4, 'action': 'hit'},\n",
       " {'state': 5, 'action': 'hit'},\n",
       " {'state': 6, 'action': 'hit'},\n",
       " {'state': 7, 'action': 'hit'},\n",
       " {'state': 8, 'action': 'hit'},\n",
       " {'state': 9, 'action': 'hit'},\n",
       " {'state': 10, 'action': 'hit'},\n",
       " {'state': 11, 'action': 'hit'},\n",
       " {'state': 12, 'action': 'hit'},\n",
       " {'state': 13, 'action': 'hit'},\n",
       " {'state': 14, 'action': 'hit'},\n",
       " {'state': 15, 'action': 'hit'},\n",
       " {'state': 16, 'action': 'hit'},\n",
       " {'state': 17, 'action': 'hit'},\n",
       " {'state': 18, 'action': 'hit'},\n",
       " {'state': 19, 'action': 'stand'},\n",
       " {'state': 20, 'action': 'stand'},\n",
       " {'state': 21, 'action': 'stand'}]"
      ]
     },
     "execution_count": 56,
     "metadata": {},
     "output_type": "execute_result"
    }
   ],
   "source": [
    "policy = trainer.compile_policy_from_trained_q_table()\n",
    "policy"
   ]
  },
  {
   "cell_type": "markdown",
   "metadata": {},
   "source": [
    "This is a policy much more similar to the standard Blackjack strategy! Let's run the 1,000-game experiment again."
   ]
  },
  {
   "cell_type": "code",
   "execution_count": 57,
   "metadata": {},
   "outputs": [],
   "source": [
    "games = list()\n",
    "for x in range(0, 1000):\n",
    "    games.append(blackjack.Game(policy).play_hand())"
   ]
  },
  {
   "cell_type": "code",
   "execution_count": 58,
   "metadata": {},
   "outputs": [
    {
     "data": {
      "text/html": [
       "<div>\n",
       "<style scoped>\n",
       "    .dataframe tbody tr th:only-of-type {\n",
       "        vertical-align: middle;\n",
       "    }\n",
       "\n",
       "    .dataframe tbody tr th {\n",
       "        vertical-align: top;\n",
       "    }\n",
       "\n",
       "    .dataframe thead th {\n",
       "        text-align: right;\n",
       "    }\n",
       "</style>\n",
       "<table border=\"1\" class=\"dataframe\">\n",
       "  <thead>\n",
       "    <tr style=\"text-align: right;\">\n",
       "      <th></th>\n",
       "      <th>winner</th>\n",
       "      <th>player_score</th>\n",
       "      <th>dealer_score</th>\n",
       "      <th>player_cards</th>\n",
       "      <th>dealer_cards</th>\n",
       "    </tr>\n",
       "  </thead>\n",
       "  <tbody>\n",
       "    <tr>\n",
       "      <th>0</th>\n",
       "      <td>player</td>\n",
       "      <td>19</td>\n",
       "      <td>23</td>\n",
       "      <td>[Rank.EIGHT, Rank.ACE]</td>\n",
       "      <td>[Rank.SEVEN, Rank.NINE, Rank.SEVEN]</td>\n",
       "    </tr>\n",
       "    <tr>\n",
       "      <th>1</th>\n",
       "      <td>player</td>\n",
       "      <td>21</td>\n",
       "      <td>19</td>\n",
       "      <td>[Rank.THREE, Rank.FACE, Rank.EIGHT]</td>\n",
       "      <td>[Rank.THREE, Rank.FIVE, Rank.ACE]</td>\n",
       "    </tr>\n",
       "    <tr>\n",
       "      <th>2</th>\n",
       "      <td>dealer</td>\n",
       "      <td>26</td>\n",
       "      <td>20</td>\n",
       "      <td>[Rank.NINE, Rank.SEVEN, Rank.FACE]</td>\n",
       "      <td>[Rank.ACE, Rank.TWO, Rank.THREE, Rank.FOUR]</td>\n",
       "    </tr>\n",
       "    <tr>\n",
       "      <th>3</th>\n",
       "      <td>dealer</td>\n",
       "      <td>24</td>\n",
       "      <td>24</td>\n",
       "      <td>[Rank.FOUR, Rank.FOUR, Rank.TWO, Rank.FOUR, Ra...</td>\n",
       "      <td>[Rank.FOUR, Rank.SIX, Rank.SIX, Rank.EIGHT]</td>\n",
       "    </tr>\n",
       "    <tr>\n",
       "      <th>4</th>\n",
       "      <td>dealer</td>\n",
       "      <td>22</td>\n",
       "      <td>21</td>\n",
       "      <td>[Rank.SIX, Rank.FACE, Rank.SIX]</td>\n",
       "      <td>[Rank.THREE, Rank.TWO, Rank.SEVEN, Rank.NINE]</td>\n",
       "    </tr>\n",
       "  </tbody>\n",
       "</table>\n",
       "</div>"
      ],
      "text/plain": [
       "   winner  player_score  dealer_score  \\\n",
       "0  player            19            23   \n",
       "1  player            21            19   \n",
       "2  dealer            26            20   \n",
       "3  dealer            24            24   \n",
       "4  dealer            22            21   \n",
       "\n",
       "                                        player_cards  \\\n",
       "0                             [Rank.EIGHT, Rank.ACE]   \n",
       "1                [Rank.THREE, Rank.FACE, Rank.EIGHT]   \n",
       "2                 [Rank.NINE, Rank.SEVEN, Rank.FACE]   \n",
       "3  [Rank.FOUR, Rank.FOUR, Rank.TWO, Rank.FOUR, Ra...   \n",
       "4                    [Rank.SIX, Rank.FACE, Rank.SIX]   \n",
       "\n",
       "                                    dealer_cards  \n",
       "0            [Rank.SEVEN, Rank.NINE, Rank.SEVEN]  \n",
       "1              [Rank.THREE, Rank.FIVE, Rank.ACE]  \n",
       "2    [Rank.ACE, Rank.TWO, Rank.THREE, Rank.FOUR]  \n",
       "3    [Rank.FOUR, Rank.SIX, Rank.SIX, Rank.EIGHT]  \n",
       "4  [Rank.THREE, Rank.TWO, Rank.SEVEN, Rank.NINE]  "
      ]
     },
     "execution_count": 58,
     "metadata": {},
     "output_type": "execute_result"
    }
   ],
   "source": [
    "df = pd.DataFrame(games)\n",
    "df.head()"
   ]
  },
  {
   "cell_type": "code",
   "execution_count": 59,
   "metadata": {},
   "outputs": [
    {
     "data": {
      "image/png": "[encoded data removed]",
      "text/plain": [
       "<Figure size 360x360 with 1 Axes>"
      ]
     },
     "metadata": {
      "needs_background": "light"
     },
     "output_type": "display_data"
    }
   ],
   "source": [
    "sns.displot(df['winner'])\n",
    "plt.title('Distribution of hand winners for 1000 hands; third pass')\n",
    "plt.show()"
   ]
  },
  {
   "cell_type": "code",
   "execution_count": 60,
   "metadata": {},
   "outputs": [
    {
     "name": "stdout",
     "output_type": "stream",
     "text": [
      "Player win percentage: 36.20%\n",
      "Dealer win percentage: 63.80%\n",
      "House edge: 13.80%\n"
     ]
    }
   ],
   "source": [
    "dealer_win = df['winner'].value_counts()['dealer'] / 1000. * 100\n",
    "player_win = df['winner'].value_counts()['player'] / 1000. * 100\n",
    "print(f\"Player win percentage: {(player_win):.2f}%\")\n",
    "print(f\"Dealer win percentage: {(dealer_win):.2f}%\")\n",
    "print(f\"House edge: {(dealer_win - 50):.2f}%\")"
   ]
  },
  {
   "cell_type": "markdown",
   "metadata": {},
   "source": [
    "## Conclusions\n",
    "\n",
    "It seems that this is around the same house edge as the previous iteration. However, this isn't the furthest we could take the experiments. It would be interesting to see if the house edge could be improved by grid-searching for better alpha, lambda, and epsilon values. Futhermore, we could implement other common rules for blackjack for the Q-learning player, such as splitting, doubling-down, and a more realistic deck, as in using single- or double-decks with shuffling when the deck depletes."
   ]
  }
 ],
 "metadata": {
  "interpreter": {
   "hash": "b9390f69085e7fdca2606005e4a65a3191529f88127ab1636ced00a1039e631b"
  },
  "kernelspec": {
   "display_name": "Python 3.10.2 ('.env': venv)",
   "language": "python",
   "name": "python3"
  },
  "language_info": {
   "codemirror_mode": {
    "name": "ipython",
    "version": 3
   },
   "file_extension": ".py",
   "mimetype": "text/x-python",
   "name": "python",
   "nbconvert_exporter": "python",
   "pygments_lexer": "ipython3",
   "version": "3.8.9"
  },
  "orig_nbformat": 4
 },
 "nbformat": 4,
 "nbformat_minor": 2
}
