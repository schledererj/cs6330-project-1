{
 "cells": [
  {
   "cell_type": "markdown",
   "metadata": {},
   "source": [
    "# CS6330 Project 1: Reinforcement Learning Blackjack Agent"
   ]
  },
  {
   "cell_type": "code",
   "execution_count": 1,
   "metadata": {},
   "outputs": [],
   "source": [
    "import blackjack"
   ]
  },
  {
   "cell_type": "code",
   "execution_count": 2,
   "metadata": {},
   "outputs": [
    {
     "data": {
      "text/plain": [
       "{'winner': 'dealer',\n",
       " 'player_score': 19,\n",
       " 'dealer_score': 20,\n",
       " 'player_cards': [<Rank.SEVEN: 7>, <Rank.EIGHT: 8>, <Rank.FOUR: 4>],\n",
       " 'dealer_cards': [<Rank.NINE: 9>, <Rank.SIX: 6>, <Rank.FIVE: 5>]}"
      ]
     },
     "execution_count": 2,
     "metadata": {},
     "output_type": "execute_result"
    }
   ],
   "source": [
    "blackjack.Game().play_hand()"
   ]
  }
 ],
 "metadata": {
  "interpreter": {
   "hash": "b9390f69085e7fdca2606005e4a65a3191529f88127ab1636ced00a1039e631b"
  },
  "kernelspec": {
   "display_name": "Python 3.10.2 ('.env': venv)",
   "language": "python",
   "name": "python3"
  },
  "language_info": {
   "codemirror_mode": {
    "name": "ipython",
    "version": 3
   },
   "file_extension": ".py",
   "mimetype": "text/x-python",
   "name": "python",
   "nbconvert_exporter": "python",
   "pygments_lexer": "ipython3",
   "version": "3.10.2"
  },
  "orig_nbformat": 4
 },
 "nbformat": 4,
 "nbformat_minor": 2
}
